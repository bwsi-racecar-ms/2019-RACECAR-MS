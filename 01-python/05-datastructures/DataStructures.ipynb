{
 "cells": [
  {
   "cell_type": "markdown",
   "metadata": {},
   "source": [
    "# Data Structures\n",
    "\n",
    "<p style='font-size:1.75rem;line-height:1.5'>\n",
    "    <b style=\"color:red\">Data structures</b> are data types that store other pieces of information. Data structures allow us to <b style=\"color:blue\">organize and manipulate</b> many variables at once. \n",
    "    </p>\n",
    "\n",
    "<p style='font-size:1.75rem;line-height:1.5'>\n",
    "    For example, a <b>string</b> is an example of a data structure because it is an <b>ordered sequence of characters</b>.\n",
    "    </p>\n",
    "    \n",
    "<p style='font-size:1.75rem;line-height:1.5'>\n",
    "    We will also be learning about <b style=\"color:blue\">another data structure</b> in Python:\n",
    "<code>lists</code>.\n",
    "    </p>"
   ]
  },
  {
   "cell_type": "markdown",
   "metadata": {},
   "source": [
    "# Indexing\n",
    "\n",
    "<p style='font-size:1.75rem;line-height:1.5'>\n",
    "    <b style=\"color:red\">Indexing</b> allows us to access individual characters in a string (or other data structure). \n",
    "    \n",
    "<p style='font-size:1.75rem;line-height:1.5'>\n",
    "    An <b style=\"color:red\">index</b> is an integer that refers to the <b style=\"color:blue\">position of the character</b> we want. The first element has an index of <code>0</code>, the second has an index of <code>1</code>, and so on.\n",
    "    </p>\n",
    "    \n",
    "<p style='font-size:1.75rem;line-height:1.5'>\n",
    "    For example, consider the string <code>'RACECAR'</code>. The following diagram shows the corresponding index below each character:\n",
    "    </p>\n",
    "\n",
    "<table style='font-size:1.75rem;line-height:1.5'>\n",
    "    <tr>\n",
    "        <td>R</td>\n",
    "        <td>A</td>\n",
    "        <td>C</td>\n",
    "        <td>E</td>\n",
    "        <td>C</td>\n",
    "        <td>A</td>\n",
    "        <td>R</td>\n",
    "    </tr>\n",
    "    <tr>\n",
    "        <td>0</td>\n",
    "        <td>1</td>\n",
    "        <td>2</td>\n",
    "        <td>3</td>\n",
    "        <td>4</td>\n",
    "        <td>5</td>\n",
    "        <td>6</td>\n",
    "    </tr>\n",
    "</table>\n",
    "\n",
    "<p style='font-size:1.75rem;line-height:1.5'>\n",
    "    We can use <b style=\"color:red\">square brackets</b> <code>[]</code> after a string to retrieve the <b style=\"color:blue\">character at a specific index</b>.\n",
    "    </p>"
   ]
  },
  {
   "cell_type": "markdown",
   "metadata": {},
   "source": [
    "<p style='font-size:1.75rem;line-height:1.5'>\n",
    "    The example below retrieves index <code>3</code> (aka. 3rd character) of <code>my_str</code>.\n",
    "    </p>"
   ]
  },
  {
   "cell_type": "code",
   "execution_count": null,
   "metadata": {},
   "outputs": [],
   "source": [
    "my_str = 'RACECAR'\n",
    "my_str[3]          # retrieve the character at index 3 (the 4th character)"
   ]
  },
  {
   "cell_type": "markdown",
   "metadata": {},
   "source": [
    "<p style='font-size:1.75rem;line-height:1.5'>\n",
    "    Select <code>'e'</code> from the the string <code>'Hello_World'</code>.\n",
    "    </p>"
   ]
  },
  {
   "cell_type": "code",
   "execution_count": null,
   "metadata": {},
   "outputs": [],
   "source": [
    "my_str = 'Hello_World'\n",
    "\n",
    "# Your code here\n",
    "\n"
   ]
  },
  {
   "cell_type": "markdown",
   "metadata": {},
   "source": [
    "<p style='font-size:1.75rem;line-height:1.5'>\n",
    "    If we try to use an <b style=\"color:blue\">index that does not exist</b> for a particular string, we will get an <code>IndexError</code>. \n",
    "    </p>"
   ]
  },
  {
   "cell_type": "markdown",
   "metadata": {},
   "source": [
    "<p style='font-size:1.75rem;line-height:1.5'>\n",
    "    For example, see what happens when we run the code below:\n",
    "    </p>"
   ]
  },
  {
   "cell_type": "code",
   "execution_count": null,
   "metadata": {},
   "outputs": [],
   "source": [
    "my_str = 'RACECAR'\n",
    "my_str[7]          # there is no index 7 for this string"
   ]
  },
  {
   "cell_type": "markdown",
   "metadata": {},
   "source": [
    "# Negative Indices\n",
    "\n",
    "<p style='font-size:1.75rem;line-height:1.5'>\n",
    "    Characters can also be specified by <b style=\"color:red\">negative indices</b>, as shown below:\n",
    "    </p>\n",
    "    \n",
    "<table style='font-size:1.75rem;line-height:1.5'>\n",
    "    <tr>\n",
    "        <td>R</td>\n",
    "        <td>A</td>\n",
    "        <td>C</td>\n",
    "        <td>E</td>\n",
    "        <td>C</td>\n",
    "        <td>A</td>\n",
    "        <td>R</td>\n",
    "    </tr>\n",
    "    <tr>\n",
    "        <td>-7</td>\n",
    "        <td>-6</td>\n",
    "        <td>-5</td>\n",
    "        <td>-4</td>\n",
    "        <td>-3</td>\n",
    "        <td>-2</td>\n",
    "        <td>-1</td>\n",
    "    </tr>\n",
    "</table>\n",
    "\n",
    "<p style='font-size:1.75rem;line-height:1.5'>\n",
    "    Using the negative index to access a character is <b>similar to using positive indices</b>:\n",
    "    <ul style='font-size:1.75rem;line-height:2'>\n",
    "        <li><b style=\"color:blue\">positive indices</b> are useful for retrieving characters near the <b style=\"color:blue\">beginning</b> of a string</li>\n",
    "        <li><b style=\"color:blue\">negative indices</b> are useful for characters near the <b style=\"color:blue\">end</b>.</li>\n",
    "    </ul>\n",
    "    </p>"
   ]
  },
  {
   "cell_type": "markdown",
   "metadata": {},
   "source": [
    "<p style='font-size:1.75rem;line-height:1.5'>\n",
    "    Select <code>'d'</code> from the the string <code>'Hello_World'</code> using a <strong>positive</strong> index."
   ]
  },
  {
   "cell_type": "code",
   "execution_count": null,
   "metadata": {},
   "outputs": [],
   "source": [
    "my_str = 'Hello_World'\n",
    "\n",
    "# Select 'd' using a positive index\n",
    "\n"
   ]
  },
  {
   "cell_type": "markdown",
   "metadata": {},
   "source": [
    "<p style='font-size:1.75rem;line-height:1.5'>\n",
    "    Now select <code>'d'</code> from the the string <code>'Hello_World'</code> using a <strong>negative</strong> index.\n",
    "    </p>"
   ]
  },
  {
   "cell_type": "code",
   "execution_count": null,
   "metadata": {},
   "outputs": [],
   "source": [
    "my_str = 'Hello_World'\n",
    "\n",
    "# Select 'd' using a negative index\n",
    "\n"
   ]
  },
  {
   "cell_type": "markdown",
   "metadata": {},
   "source": [
    "# Slicing\n",
    "\n",
    "<p style='font-size:1.75rem;line-height:1.5'>\n",
    "    <b style=\"color:red\">Slicing</b> allows us to get a <b style=\"color:red\">substring</b> of characters from a string. \n",
    "    <br> The format for slicing is:\n",
    "    </p>\n",
    "\n",
    "<pre style='font-size:1.75rem;line-height:1.5'>\n",
    "    &lt;string&gt;[start:stop:step]\n",
    "</pre>\n",
    "\n",
    "<ul style='font-size:1.75rem;line-height:1.5'>\n",
    "    <li><b style=\"color:blue\">Start index:</b> the index at which the substring begins \n",
    "        <br> (inclusive — character at start index is not included).</li>\n",
    "    <li><b style=\"color:blue\">Stop index:</b> the index at which the substring ends \n",
    "        <br> (exclusive — character at stop index is not included).</li>\n",
    "    <li><b style=\"color:blue\">Step size:</b> how many items indices do you want to move forward.</li>\n",
    "</ul>\n",
    "<p style='font-size:1.75rem;line-height:1.5'>\n",
    "    Think of slicing as moving through a string and <b style=\"color:blue\">selecting certain characters</b>. \n",
    "    </p>\n",
    "    \n",
    "<p style='font-size:1.75rem;line-height:1.5'>\n",
    "    We start at the start index, and then repeatedly add the step size to the current index. If the current index is greater than or equal to the stop index, we stop.\n",
    "    </p>"
   ]
  },
  {
   "cell_type": "markdown",
   "metadata": {},
   "source": [
    "<p style='font-size:1.75rem;line-height:1.5'>\n",
    "    For example, this slice selects <b>every character</b> from index <code>2</code> to <code>5</code>:\n",
    "    </p>"
   ]
  },
  {
   "cell_type": "code",
   "execution_count": null,
   "metadata": {
    "scrolled": true
   },
   "outputs": [],
   "source": [
    "my_str = 'RACECAR'\n",
    "my_str[2:6:1]      # select every character from index 2 to 5"
   ]
  },
  {
   "cell_type": "markdown",
   "metadata": {},
   "source": [
    "<p style='font-size:1.75rem;line-height:1.5'>\n",
    "    And this will select <b>every other</b> character from index <code>0</code> to <code>6</code>:\n",
    "    </p>"
   ]
  },
  {
   "cell_type": "code",
   "execution_count": null,
   "metadata": {
    "scrolled": true
   },
   "outputs": [],
   "source": [
    "my_str = 'RACECAR'\n",
    "my_str[0:7:2]      # select every other character from index 0 to 6"
   ]
  },
  {
   "cell_type": "markdown",
   "metadata": {},
   "source": [
    "<p style='font-size:1.75rem;line-height:1.5'>\n",
    "    Select the substring <code>'Hello'</code> from the string <code>'Hello_World'</code>.\n",
    "    </p>"
   ]
  },
  {
   "cell_type": "code",
   "execution_count": null,
   "metadata": {},
   "outputs": [],
   "source": [
    "my_str = 'Hello_World'\n",
    "\n",
    "# Start your code here\n",
    "\n"
   ]
  },
  {
   "cell_type": "markdown",
   "metadata": {},
   "source": [
    "<p style='font-size:1.75rem;line-height:1.5'>\n",
    "    Select the substring <code>'HloWrd'</code> from the string <code>'Hello_World'</code>.\n",
    "    </p>"
   ]
  },
  {
   "cell_type": "code",
   "execution_count": null,
   "metadata": {},
   "outputs": [],
   "source": [
    "my_str = 'Hello_World'\n",
    "\n",
    "# Start your code here\n",
    "\n"
   ]
  },
  {
   "cell_type": "markdown",
   "metadata": {},
   "source": [
    "# Default Values for Slicing\n",
    "\n",
    "<p style='font-size:1.75rem;line-height:1.5'>\n",
    "    Slicing also has <b style=\"color:red\">default start, stop, and step</b> values. They are:\n",
    "    </p>\n",
    "    \n",
    "<ul style='font-size:1.75rem;line-height:1.5'>\n",
    "    <li><b style=\"color:blue\">Default Start Index:</b> <code>0</code></li>\n",
    "    <li><b style=\"color:blue\">Default End Index:</b> the length of the string (it will go to the end)</li>\n",
    "    <li><b style=\"color:blue\">Default Step:</b> <code>1</code></li>\n",
    "</ul>\n",
    "\n",
    "<p style='font-size:1.75rem;line-height:1.5'>\n",
    "    If we omit any of these values, Python will automatically use the default values. \n",
    "    </p>\n",
    "    \n",
    "<p style='font-size:1.75rem;line-height:1.5'>    \n",
    "    NOTE: We need to include the first colon <code>:</code> so that Python knows we want to make a slice rather than just retrieve a single character at that index. BUT we can omit the second colon if we are using the default step size of 1.\n",
    "    </p>"
   ]
  },
  {
   "cell_type": "markdown",
   "metadata": {},
   "source": [
    "<p style='font-size:1.75rem;line-height:1.5'>\n",
    "    Run the examples below.\n",
    "    <br> <b>DISCUSS WITH YOUR PARTNER</b> how each string is sliced!\n",
    "    </p>"
   ]
  },
  {
   "cell_type": "code",
   "execution_count": null,
   "metadata": {},
   "outputs": [],
   "source": [
    "my_str = 'RACECAR'\n",
    "my_str[1:]         # same as my_str[1:7:1]"
   ]
  },
  {
   "cell_type": "code",
   "execution_count": null,
   "metadata": {},
   "outputs": [],
   "source": [
    "my_str = 'RACECAR'\n",
    "my_str[:3]         # same as my_str[0:3:1]"
   ]
  },
  {
   "cell_type": "code",
   "execution_count": null,
   "metadata": {},
   "outputs": [],
   "source": [
    "my_str = 'RACECAR'\n",
    "my_str[2:6]        # same as my_str[2:6:1]"
   ]
  },
  {
   "cell_type": "code",
   "execution_count": null,
   "metadata": {},
   "outputs": [],
   "source": [
    "my_str = 'RACECAR'\n",
    "my_str[::2]        # same as my_str[0:7:2]"
   ]
  },
  {
   "cell_type": "markdown",
   "metadata": {},
   "source": [
    "# Negative Slicing\n",
    "\n",
    "<p style='font-size:1.75rem;line-height:1.5'>\n",
    "    We can also use <b style=\"color:red\">negative indices</b> with slicing. Remember, negative indices are just <b style=\"color:blue\">another way</b> to refer to each position in a string. For example:\n",
    "    </p>"
   ]
  },
  {
   "cell_type": "code",
   "execution_count": null,
   "metadata": {},
   "outputs": [],
   "source": [
    "my_str = 'RACECAR'\n",
    "my_str[-5:-1:1]    # select every other character from index -5 (same as 2) to -1 (same as 6)"
   ]
  },
  {
   "cell_type": "markdown",
   "metadata": {},
   "source": [
    "<p style='font-size:1.75rem;line-height:1.5'>\n",
    "    We can also use a negative step size to <b style=\"color:blue\">iterate through the string backwards!</b>\n",
    "    </p>\n",
    "    \n",
    "<p style='font-size:1.75rem;line-height:1.5'>\n",
    "    Note that when we are stepping backwards, we also have to <b style=\"color:blue\">reverse the direction of our bounds</b>, putting the larger index first.\n",
    "    </p>"
   ]
  },
  {
   "cell_type": "markdown",
   "metadata": {},
   "source": [
    "<p style='font-size:1.75rem;line-height:1.5'>\n",
    "    For example:\n",
    "    </p>"
   ]
  },
  {
   "cell_type": "code",
   "execution_count": 1,
   "metadata": {
    "scrolled": true
   },
   "outputs": [
    {
     "data": {
      "text/plain": [
       "'ACEC'"
      ]
     },
     "execution_count": 1,
     "metadata": {},
     "output_type": "execute_result"
    }
   ],
   "source": [
    "my_str = 'RACECAR'\n",
    "my_str[5:1:-1]     # select every other character from index 5 to 2, stepping backwards"
   ]
  },
  {
   "cell_type": "markdown",
   "metadata": {},
   "source": [
    "<p style='font-size:1.75rem;line-height:1.5'>\n",
    "    Select the substring <code>'World'</code> from the string <code>'Hello_World'</code> using negative indices.\n",
    "    </p>"
   ]
  },
  {
   "cell_type": "code",
   "execution_count": null,
   "metadata": {},
   "outputs": [],
   "source": [
    "my_str = 'Hello_World'\n",
    "\n",
    "# Start your code here\n",
    "\n"
   ]
  },
  {
   "cell_type": "markdown",
   "metadata": {},
   "source": [
    "<p style='font-size:1.75rem;line-height:1.5'>\n",
    "    Select the reversed substring <code>'dlroW'</code> from the string <code>'Hello_World'</code>.\n",
    "    </p>"
   ]
  },
  {
   "cell_type": "code",
   "execution_count": null,
   "metadata": {},
   "outputs": [],
   "source": [
    "my_str = 'Hello_World'\n",
    "\n",
    "# Start your code here\n",
    "\n"
   ]
  },
  {
   "cell_type": "markdown",
   "metadata": {},
   "source": [
    "# Membership Operators\n",
    "\n",
    "<p style='font-size:1.75rem;line-height:1.5'>\n",
    "    We can check whether a character is in a particular string using the <b style=\"color:red\">membership operators</b> <code>in</code> and <code>not in</code>.\n",
    "    </p>\n",
    "    \n",
    "<ul style='font-size:1.75rem;line-height:1.5'>\n",
    "    <li><code>in</code>: returns <code>True</code> if the character <b>IS</b> in the string.</li>\n",
    "    <li><code>not in</code>: returns <code>True</code> if the character is <b>NOT in</b> the string.</li>\n",
    "</ul>"
   ]
  },
  {
   "cell_type": "markdown",
   "metadata": {},
   "source": [
    "<p style='font-size:1.75rem;line-height:1.5'>\n",
    "    What do you think the following code will output?\n",
    "    </p>"
   ]
  },
  {
   "cell_type": "code",
   "execution_count": null,
   "metadata": {
    "scrolled": false
   },
   "outputs": [],
   "source": [
    "my_str = 'RACECAR'\n",
    "'E' in my_str"
   ]
  },
  {
   "cell_type": "markdown",
   "metadata": {},
   "source": [
    "<p style='font-size:1.75rem;line-height:1.5'>\n",
    "    Check if 'A' is in <code>my_str</code>\n",
    "    </p>"
   ]
  },
  {
   "cell_type": "code",
   "execution_count": null,
   "metadata": {},
   "outputs": [],
   "source": [
    "my_str = 'RACECAR'\n",
    "\n",
    "# Start your code here\n",
    "\n"
   ]
  },
  {
   "cell_type": "markdown",
   "metadata": {},
   "source": [
    "# Concatenation\n",
    "\n",
    "<p style='font-size:1.75rem;line-height:1.5'>\n",
    "    We have seen <b style=\"color:red\">concatenation</b> before. As a refresher, we can concatenate (join) multiple strings together using the <code>+</code> and <code>*</code> operators.\n",
    "    </p>"
   ]
  },
  {
   "cell_type": "markdown",
   "metadata": {},
   "source": [
    "<p style='font-size:1.75rem;line-height:1.5'>\n",
    "    Concatenate, slice, and print <code>'RACERACE CARCAR'</code> below:\n",
    "    </p>"
   ]
  },
  {
   "cell_type": "code",
   "execution_count": null,
   "metadata": {},
   "outputs": [],
   "source": [
    "my_str = 'RACECAR'\n",
    "\n",
    "# Start your code here\n",
    "\n"
   ]
  },
  {
   "cell_type": "markdown",
   "metadata": {},
   "source": [
    "# Length\n",
    "\n",
    "<p style='font-size:1.75rem;line-height:1.5'>\n",
    "    The function <code>len</code> returns the <b style=\"color:red\">length of a string</b>.\n",
    "    </p>"
   ]
  },
  {
   "cell_type": "markdown",
   "metadata": {},
   "source": [
    "<p style='font-size:1.75rem;line-height:1.5'>\n",
    "    Find the length of <code>my_str</code> below!\n",
    "    </p>"
   ]
  },
  {
   "cell_type": "code",
   "execution_count": null,
   "metadata": {
    "scrolled": true
   },
   "outputs": [],
   "source": [
    "my_str = 'RACECAR'\n",
    "\n",
    "# Start your code here\n",
    "\n"
   ]
  },
  {
   "cell_type": "markdown",
   "metadata": {},
   "source": [
    "# <b style=\"color:red\">--- STOP HERE --- </b>\n",
    "\n",
    "---"
   ]
  },
  {
   "cell_type": "markdown",
   "metadata": {},
   "source": [
    "# Lists\n",
    "\n",
    "<p style='font-size:1.75rem;line-height:1.5'>\n",
    "    <b style=\"color:red\">Lists</b> are <b style=\"color:blue\">ordered sequences of items</b>. Items can be values of any data type.\n",
    "    </p>\n",
    "    \n",
    "<p style='font-size:1.75rem;line-height:1.5'>\n",
    "    Lists allow us to organize data, condense our code, and perform the same methods and operations on multiple values at once.\n",
    "    </p>\n",
    "    \n",
    "<p style='font-size:1.75rem;line-height:1.5'>\n",
    "    In Python, lists are written using <b style=\"color:blue\">square brackets</b> <code>[]</code> and <b style=\"color:blue\">commas</b> <code>,</code> to separate items. Here is an example of a simple list:\n",
    "    </p>"
   ]
  },
  {
   "cell_type": "code",
   "execution_count": null,
   "metadata": {},
   "outputs": [],
   "source": [
    "[1, 2, 3, 4, 5]  # a list of integers"
   ]
  },
  {
   "cell_type": "markdown",
   "metadata": {},
   "source": [
    "<p style='font-size:1.75rem;line-height:1.5'>\n",
    "    Lists can contain any other data type, including other lists. A list can even <b style=\"color:blue\">contain multiple data types</b>! For example:\n",
    "    </p>"
   ]
  },
  {
   "cell_type": "code",
   "execution_count": null,
   "metadata": {},
   "outputs": [],
   "source": [
    "[5, [1, 2, 3], 'Hello!', None, 3.14159, False]  # a list containing multiple data types"
   ]
  },
  {
   "cell_type": "markdown",
   "metadata": {},
   "source": [
    "<p style='font-size:1.75rem;line-height:1.5'>\n",
    "    Everything we learned for strings (indexing, slicing, membership operators, concatenation, and length) also works on lists!\n",
    "    </p>"
   ]
  },
  {
   "cell_type": "markdown",
   "metadata": {},
   "source": [
    "<p style='font-size:1.75rem;line-height:1.5'>\n",
    "    Access the integer <code>3</code> using indexing (remember, indices start at 0).\n",
    "    </p>"
   ]
  },
  {
   "cell_type": "code",
   "execution_count": null,
   "metadata": {
    "scrolled": true
   },
   "outputs": [],
   "source": [
    "my_list = [1, 2, 3, 4, 5]\n",
    "\n",
    "# Start your code here\n",
    "\n"
   ]
  },
  {
   "cell_type": "markdown",
   "metadata": {},
   "source": [
    "<p style='font-size:1.75rem;line-height:1.5'>\n",
    "    Output the sublist <code>[2, 3, 4]</code>.\n",
    "    </p>"
   ]
  },
  {
   "cell_type": "code",
   "execution_count": null,
   "metadata": {},
   "outputs": [],
   "source": [
    "my_list = [1, 2, 3, 4, 5]\n",
    "\n",
    "# Start your code here\n",
    "\n"
   ]
  },
  {
   "cell_type": "markdown",
   "metadata": {},
   "source": [
    "<p style='font-size:1.75rem;line-height:1.5'>\n",
    "    Check if <code>3</code> is in <code>my_list</code>.\n",
    "    </p>"
   ]
  },
  {
   "cell_type": "code",
   "execution_count": null,
   "metadata": {},
   "outputs": [],
   "source": [
    "my_list = [1, 2, 3, 4, 5]\n",
    "\n",
    "# Start your code here\n",
    "\n"
   ]
  },
  {
   "cell_type": "markdown",
   "metadata": {},
   "source": [
    "<p style='font-size:1.75rem;line-height:1.5'>\n",
    "    Use concatenation and slicing to output the list <code>[2, 4, 6, 8, 10]</code>.\n",
    "    </p>"
   ]
  },
  {
   "cell_type": "code",
   "execution_count": null,
   "metadata": {},
   "outputs": [],
   "source": [
    "list1 = [1, 2, 3, 4, 5]\n",
    "list2 = [6, 7, 8, 9, 10]\n",
    "\n",
    "# Start your code here\n",
    "\n"
   ]
  },
  {
   "cell_type": "markdown",
   "metadata": {},
   "source": [
    "<p style='font-size:1.75rem;line-height:1.5'>\n",
    "    Find the length of <code>my_list</code>.\n",
    "    </p>"
   ]
  },
  {
   "cell_type": "code",
   "execution_count": null,
   "metadata": {},
   "outputs": [],
   "source": [
    "my_list = [1, 2, 3, 4, 5]\n",
    "\n",
    "# Start your code here\n",
    "\n"
   ]
  },
  {
   "cell_type": "markdown",
   "metadata": {},
   "source": [
    "# Append and Pop\n",
    "\n",
    "<p style='font-size:1.75rem;line-height:1.5'>\n",
    "    We can <b style=\"color:red\">add</b> an item to the <b style=\"color:blue\">end of a list</b> using <code>&lt;list&gt;.append(&lt;item&gt;)</code> like this:\n",
    "    </p>"
   ]
  },
  {
   "cell_type": "code",
   "execution_count": null,
   "metadata": {},
   "outputs": [],
   "source": [
    "my_list = [1, 2, 3, 4, 5]\n",
    "my_list.append(6)         # add 6 to the end\n",
    "print(my_list)            # print the list"
   ]
  },
  {
   "cell_type": "markdown",
   "metadata": {},
   "source": [
    "<p style='font-size:1.75rem;line-height:1.5'>\n",
    "    Append <code>3</code> to <code>my_list</code> below, and print the updated list.\n",
    "    </p>"
   ]
  },
  {
   "cell_type": "code",
   "execution_count": null,
   "metadata": {},
   "outputs": [],
   "source": [
    "my_list = [1, 2, 3, 4, 5]\n",
    "\n",
    "# Start your code here\n",
    "\n"
   ]
  },
  {
   "cell_type": "markdown",
   "metadata": {},
   "source": [
    "<p style='font-size:1.75rem;line-height:1.5'>\n",
    "    We can also <b style=\"color:red\">remove</b> an item at a <b style=\"color:blue\">specific index</b> using <code>&lt;list&gt;.pop(&lt;index&gt;)</code>.\n",
    "    </p>"
   ]
  },
  {
   "cell_type": "markdown",
   "metadata": {},
   "source": [
    "<p style='font-size:1.75rem;line-height:1.5'>\n",
    "    Try it below:\n",
    "    </p>"
   ]
  },
  {
   "cell_type": "code",
   "execution_count": null,
   "metadata": {
    "scrolled": false
   },
   "outputs": [],
   "source": [
    "my_list = [1, 2, 3, 4, 5]\n",
    "my_list.pop(2)            # remove item at index 2\n",
    "print(my_list)            # print the list"
   ]
  },
  {
   "cell_type": "markdown",
   "metadata": {},
   "source": [
    "<p style='font-size:1.75rem;line-height:1.5'>\n",
    "    Remove <code>2</code> from <code>my_list</code> below, and print the updated list.\n",
    "    </p>"
   ]
  },
  {
   "cell_type": "code",
   "execution_count": null,
   "metadata": {},
   "outputs": [],
   "source": [
    "my_list = [1, 2, 3, 4, 5]\n",
    "\n",
    "# Start your code here\n",
    "\n"
   ]
  },
  {
   "cell_type": "markdown",
   "metadata": {},
   "source": [
    "<p style='font-size:1.75rem;line-height:1.5'>\n",
    "    Append a food of your choice below, print the new list, remove the second item from the list, and then print the list again.\n",
    "    </p>"
   ]
  },
  {
   "cell_type": "code",
   "execution_count": null,
   "metadata": {},
   "outputs": [],
   "source": [
    "food = ['pizza', 'sandwich', 'salad']\n",
    "\n",
    "# Add another food (a string) to the end\n",
    "\n",
    "\n",
    "# Print the new list\n",
    "\n",
    "\n",
    "# Remove the second item of the list\n",
    "\n",
    "\n",
    "# Print the new list\n",
    "\n"
   ]
  },
  {
   "cell_type": "markdown",
   "metadata": {},
   "source": [
    "# Python Functions for Numbers\n",
    "\n",
    "<p style='font-size:1.75rem;line-height:1.5'>\n",
    "    There are a few <b style=\"color:red\">built-in Python functions</b> that take lists or tuples of <b style=\"color:blue\">numbers</b> as arguments. These functions are summarized below:\n",
    "    </p>\n",
    "<table style='font-size:1.75rem;line-height:1.5;text-align:center'>\n",
    "    <tr>\n",
    "        <th style='font-size:1.75rem;line-height:1.5;text-align:center'>Function</th>\n",
    "        <th style='font-size:1.75rem;line-height:1.5;text-align:center'>Returns</th>\n",
    "    </tr>\n",
    "    <tr>\n",
    "        <td style='font-size:1.75rem;line-height:1.5;text-align:center'><code>sum</code></td>\n",
    "        <td style='font-size:1.75rem;line-height:1.5;text-align:center'>sum of elements</td>\n",
    "    </tr>\n",
    "    <tr>\n",
    "        <td style='font-size:1.75rem;line-height:1.5;text-align:center'><code>max</code></td>\n",
    "        <td style='font-size:1.75rem;line-height:1.5;text-align:center'>largest element</td>\n",
    "    </tr>\n",
    "    <tr>\n",
    "        <td style='font-size:1.75rem;line-height:1.5;text-align:center'><code>min</code></td>\n",
    "        <td style='font-size:1.75rem;line-height:1.5;text-align:center'>smallest element</td>\n",
    "    </tr>\n",
    "    <tr>\n",
    "        <td style='font-size:1.75rem;line-height:1.5;text-align:center'><code>sorted</code></td>\n",
    "        <td style='font-size:1.75rem;line-height:1.5;text-align:center'>list of elements from smallest to largest</td>\n",
    "    </tr>\n",
    "</table>"
   ]
  },
  {
   "cell_type": "markdown",
   "metadata": {},
   "source": [
    "<p style='font-size:1.75rem;line-height:1.5'>\n",
    "    For example, using <code>max</code> on <code>my_list</code> should return <code>98</code>:\n",
    "    </p>"
   ]
  },
  {
   "cell_type": "code",
   "execution_count": null,
   "metadata": {},
   "outputs": [],
   "source": [
    "my_list = [68, 30, 72, 66, 75, 98, 26, 55, 13, 51]\n",
    "max(my_list)"
   ]
  },
  {
   "cell_type": "markdown",
   "metadata": {},
   "source": [
    "<p style='font-size:1.75rem;line-height:1.5'>\n",
    "    Sort <code>my_list</code> using <code>sorted</code>.\n",
    "    </p>"
   ]
  },
  {
   "cell_type": "code",
   "execution_count": null,
   "metadata": {},
   "outputs": [],
   "source": [
    "my_list = [68, 30, 72, 66, 75, 96, 26, 55, 13, 51]\n",
    "\n",
    "# Start your code here\n",
    "\n"
   ]
  },
  {
   "cell_type": "markdown",
   "metadata": {},
   "source": [
    "<p style='font-size:1.75rem;line-height:1.5'>\n",
    "    Add the numbers from <code>1</code> to <code>10</code> using the <code>sum</code> function. Remember, <code>sum</code> takes an iterable as an arguement!\n",
    "    </p>"
   ]
  },
  {
   "cell_type": "code",
   "execution_count": null,
   "metadata": {},
   "outputs": [],
   "source": [
    "# Start your code here\n",
    "\n"
   ]
  },
  {
   "cell_type": "markdown",
   "metadata": {},
   "source": [
    "# <b style=\"color:red\">--- STOP HERE --- </b>\n",
    "\n",
    "---"
   ]
  },
  {
   "cell_type": "markdown",
   "metadata": {},
   "source": [
    "# Middle String"
   ]
  },
  {
   "cell_type": "markdown",
   "metadata": {},
   "source": [
    "<p style='font-size:1.75rem;line-height:1.5'>\n",
    "    Given 2 strings, <code>a</code> and <code>b</code>, return a string of the form short + long + short, with the shorter string on the outside and the longer string in the middle. If the strings are the same length, print <code>a + b</code>. For example:\n",
    "    </p>\n",
    "<ul style='font-size:1.75rem;line-height:1.5'>\n",
    "    <li>For <code>Racecar</code> and <code>Beaver</code>, print <code>BeaverRacecarBeaver</code>.</li>\n",
    "    <li>For <code>Hello</code> and <code>World</code>, print <code>HelloWorld</code>.</li>\n",
    "</ul>\n",
    "<p style='font-size:1.75rem;line-height:1.5'>\n",
    "    Check your code by changing the strings passed into the function!\n",
    "    </p>"
   ]
  },
  {
   "cell_type": "code",
   "execution_count": null,
   "metadata": {},
   "outputs": [],
   "source": [
    "def middle_string(a, b):\n",
    "    # Start your code here\n",
    "\n",
    "    \n",
    "    \n",
    "\n",
    "# Change the strings to test your code!\n",
    "str1 = 'Race'\n",
    "str2 = 'Car'\n",
    "middle_string(str1, str2)"
   ]
  },
  {
   "cell_type": "markdown",
   "metadata": {},
   "source": [
    "# Common Ends"
   ]
  },
  {
   "cell_type": "markdown",
   "metadata": {},
   "source": [
    "<p style='font-size:1.75rem;line-height:1.5'>\n",
    "    Given 2 lists, <code>a</code> and <code>b</code>, return <code>True</code> if they have the same first element <strong>OR</strong> if they have the same last element. For example:\n",
    "    </p>\n",
    "<ul style='font-size:1.75rem;line-height:1.5'>\n",
    "    <li>For <code>['RACECAR', 1, 2, 3]</code> and <code>[3, 2, 1, 2, 3]</code>, output <code>True</code> (same last element).</li>\n",
    "</ul>\n",
    "<p style='font-size:1.75rem;line-height:1.5'>\n",
    "    Check your code by changing the lists passed into the function!\n",
    "    </p>"
   ]
  },
  {
   "cell_type": "code",
   "execution_count": null,
   "metadata": {},
   "outputs": [],
   "source": [
    "def common_ends(a, b):\n",
    "    # Start your code here\n",
    "    \n",
    "\n",
    "    \n",
    "\n",
    "# Change the lists to test your code!\n",
    "list1 = [1, 'jfio', 9, 0, 9, 2, 1, 'same']\n",
    "list2 = [2, 'same']\n",
    "common_ends(list1, list2)"
   ]
  },
  {
   "cell_type": "markdown",
   "metadata": {},
   "source": [
    "# Reverse Sum"
   ]
  },
  {
   "cell_type": "markdown",
   "metadata": {},
   "source": [
    "<p style='font-size:1.75rem;line-height:1.5'>\n",
    "    Given two tuples, <code>a</code> and <code>b</code>, return <code>a + b</code>, but in reverse order. For example:\n",
    "    </p>\n",
    "<ul style='font-size:1.75rem;line-height:1.5'>\n",
    "    <li>If <code>a</code> is <code>(1, 2, 'racecar')</code> and <code>b</code> is <code>(4, True, 6)</code>, return <code>(6, True, 4, 'racecar', 2, 1)</code>.</li>\n",
    "</ul>\n",
    "    </p>\n",
    "<p style='font-size:1.75rem;line-height:1.5'>\n",
    "    Check your code by changing the tuples passed into the function!\n",
    "    </p>"
   ]
  },
  {
   "cell_type": "code",
   "execution_count": null,
   "metadata": {},
   "outputs": [],
   "source": [
    "def reverse_sum(a, b):\n",
    "    # Start your code here\n",
    "    \n",
    "    \n",
    "    \n",
    "    \n",
    "\n",
    "# Change the tuples to test your code!\n",
    "tuple1 = (2, 4, 1, 'a', '9', 'b')\n",
    "tuple2 = (False, 'first item')\n",
    "reverse_sum(tuple1, tuple2)"
   ]
  },
  {
   "cell_type": "markdown",
   "metadata": {},
   "source": [
    "# Zero Padding"
   ]
  },
  {
   "cell_type": "markdown",
   "metadata": {},
   "source": [
    "<p style='font-size:1.75rem;line-height:1.5'>\n",
    "    Given a list <code>a</code> of numbers, return a list with <code>n</code> zeroes <code>0</code> at both ends of <code>a</code>. For example:\n",
    "    </p>\n",
    "<ul style='font-size:1.75rem;line-height:1.5'>\n",
    "    <li><code>zero_padding([9.3, 8, 1, 3, -4], 2)</code> should return <code>[0, 0, 9.3, 8, 1, 3, -4, 0, 0]</code>.</li>\n",
    "</ul>\n",
    "<p style='font-size:1.75rem;line-height:1.5'>\n",
    "    Check your code by calling <code>zero_padding</code> on a few lists and values of <code>n</code>!\n",
    "    </p>"
   ]
  },
  {
   "cell_type": "code",
   "execution_count": null,
   "metadata": {},
   "outputs": [],
   "source": [
    "def zero_padding (a, n):\n",
    "    # Start your code here\n",
    "    \n",
    "    \n",
    "    \n",
    "\n",
    "# Change the list and n to test your code!\n",
    "my_list = [-5, 120, -45, 98, 180, 359]\n",
    "n = 3\n",
    "print(zero_padding(my_list, n))"
   ]
  },
  {
   "cell_type": "markdown",
   "metadata": {},
   "source": [
    "# Nested Lists"
   ]
  },
  {
   "cell_type": "markdown",
   "metadata": {},
   "source": [
    "<p style='font-size:1.75rem;line-height:1.5'>\n",
    "    You can have lists inside lists. You can index each layer with an additional bracket.\n",
    "    </p>\n",
    "\n",
    "<p style='font-size:1.75rem;line-height:1.5'>\n",
    "    Example:\n",
    "    </p>\n",
    "    \n",
    "```python\n",
    "x = [[0, 0, 0, 0, 0], \n",
    "     [0, 0, 5, 0, 0],\n",
    "     [0, 0, 0, 0, 0],\n",
    "     [0, 0, 0, 0, 0],\n",
    "     [0, 0, 0, 0, 0]]\n",
    "\n",
    "x[1][2] will index into the 5.\n",
    "```\n",
    "\n",
    "<p style='font-size:1.75rem;line-height:1.5'>\n",
    "    Try to create a nested list with 3 layers. And index into the third layer.\n",
    "    </p>"
   ]
  },
  {
   "cell_type": "code",
   "execution_count": null,
   "metadata": {},
   "outputs": [],
   "source": [
    "# Start your code here\n",
    "\n"
   ]
  },
  {
   "cell_type": "markdown",
   "metadata": {},
   "source": [
    "<p style='font-size:1.75rem;line-height:1.5'>\n",
    "    <strong>Challenge:</strong> Try to slice into the 2 layer nested list below. Change all the values of row 5 from 0 to 255. \n",
    "    </p>"
   ]
  },
  {
   "cell_type": "code",
   "execution_count": null,
   "metadata": {},
   "outputs": [],
   "source": [
    "x = [[0, 0, 0, 0, 0], \n",
    "     [0, 0, 0, 0, 0],\n",
    "     [0, 0, 0, 0, 0],\n",
    "     [0, 0, 0, 0, 0],\n",
    "     [0, 0, 0, 0, 0]]\n",
    "\n",
    "# Start your code here\n",
    "\n"
   ]
  }
 ],
 "metadata": {
  "kernelspec": {
   "display_name": "Python 2",
   "language": "python",
   "name": "python2"
  },
  "language_info": {
   "codemirror_mode": {
    "name": "ipython",
    "version": 2
   },
   "file_extension": ".py",
   "mimetype": "text/x-python",
   "name": "python",
   "nbconvert_exporter": "python",
   "pygments_lexer": "ipython2",
   "version": "2.7.16"
  }
 },
 "nbformat": 4,
 "nbformat_minor": 2
}
