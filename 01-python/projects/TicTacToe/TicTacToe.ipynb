{
 "cells": [
  {
   "cell_type": "markdown",
   "metadata": {},
   "source": [
    "# Tic Tac Toe\n",
    "\n",
    "<p style='font-size:1.75rem;line-height:1.5'>\n",
    "    In this lab, we will create a <b style=\"color:red\">Tic Tac Toe game</b>.\n",
    "    </p>\n",
    "    \n",
    "<p style='font-size:1.75rem;line-height:1.5'>\n",
    "    So, why are we doing a Tic Tac Toe game you ask? \n",
    "    <br>First of all, it reinforces your <b>understanding of functions and loops</b>. \n",
    "    </p>\n",
    "    \n",
    "<p style='font-size:1.75rem;line-height:1.5'>\n",
    "    And also... Some of your classmates were very involved in the <b>game DURING lecture</b>\n",
    "    <br>So thank them for this lab\n",
    "    </p>\n",
    "    \n",
    "<p style='font-size:1.75rem;line-height:1.5'>\n",
    "    We will complete this game in three steps. \n",
    "    <ul style='font-size:1.75rem;line-height:2'>\n",
    "        <ol>\n",
    "            <li> Check if the player's move is a <b style=\"color:blue\">valid move</b>.</li>\n",
    "            <li> Put a <b style=\"color:blue\">player's mark</b> on the board.</li>\n",
    "            <li> Check if the player has <b style=\"color:blue\">won</b></li>\n",
    "        </ol>\n",
    "    </ul>\n",
    "    </p>"
   ]
  },
  {
   "cell_type": "markdown",
   "metadata": {},
   "source": [
    "## Understanding Variables\n",
    "\n",
    "<p style='font-size:1.75rem;line-height:1.5'>\n",
    "    There are <b style=\"color:red\">two important variables</b> you need to understand for this lab:\n",
    "    </p>\n",
    "    \n",
    "<p style='font-size:1.75rem;line-height:1.5'>\n",
    "    <ol style='font-size:1.75rem;line-height:2'>\n",
    "        <li><code>board</code> is a <b style=\"color:blue\">list of strings</b> respresenting all the <b style=\"color:blue\">marks on the board</b>:\n",
    "            <ul style='font-size:1.75rem;line-height:2'>\n",
    "                <li>If the string is <code>'-'</code>, then it has <b>NOT been marked</b>. </li>\n",
    "                <li>If the string is <code>'X'</code> or <code>'O'</code>, then that board position has been <b>MARKED</b>.</li>\n",
    "            </ul>\n",
    "        </li>\n",
    "        <li><code>choice</code> is the <b style=\"color:blue\">player input</b> for the <b style=\"color:blue\">INDEX of the board position</b> at which the player wants to mark.</li>\n",
    "    </ol>\n",
    "    </p>\n",
    "\n",
    "## Board Set Up\n",
    "<p style='font-size:1.75rem;line-height:1.5'>\n",
    "    Here are the <b>INDICES</b> of the different board positions. \n",
    "    <br> You can <b>INDEX</b> into <code>board</code> using these numbers to access each corresponding mark.\n",
    "    </p>\n",
    "    \n",
    "<img src=\"board.png\" alt=\"board\" style=\"width: 100px;\"/>\n",
    "\n",
    "<p style='font-size:1.75rem;line-height:1.5'>\n",
    "    This is what a clean board (i.e <b>WITHOUT</b> any <code>'X'</code> or <code>'O'</code>) looks like:\n",
    "    <br> <code>board = ['-', '-', '-', '-', '-', '-', '-', '-', '-']</code>. \n",
    "    </p>\n",
    "    \n",
    "<img src=\"clean_board.png\" alt=\"clean_board\" style=\"width: 125px;\"/>\n",
    "    \n",
    "<p style='font-size:1.75rem;line-height:1.5'>    \n",
    "    Depending on the player's index choice (<code>0</code> - <code>8</code>), the board will be marked up with <code>'X'</code> or <code>'O'</code>.\n",
    "    <br> <code>board = ['X', '-', '-', '-', '-', 'O', '-', '-', '-']</code>. \n",
    "    </p>\n",
    "    \n",
    "<img src=\"marked_board.png\" alt=\"marked_board\" style=\"width: 125px;\"/>"
   ]
  },
  {
   "cell_type": "markdown",
   "metadata": {},
   "source": [
    "## First Step\n",
    "<p style='font-size:1.75rem;line-height:1.5'>\n",
    "    First, let's check if the player's move is a <b style=\"color:blue\">valid move</b> using the function <code>is_valid_move</code>. \n",
    "    <br>The player's move is <b style=\"color:blue\">VALID</b> if:\n",
    "    </p>\n",
    "    \n",
    "<ul style='font-size:1.75rem;line-height:2'>\n",
    "    <ol>\n",
    "        <li> <code>choice</code> (aka the board index) is between <code>0</code> through <code>8</code>.</li>\n",
    "        <li> <code>choice</code> is NOT already filled in with a mark (ie. <code>'X'</code> or <code>'O'</code>)</li>\n",
    "     </ol>\n",
    "</ul>"
   ]
  },
  {
   "cell_type": "code",
   "execution_count": null,
   "metadata": {},
   "outputs": [],
   "source": [
    "def is_valid_move(choice, board):\n",
    "    # Student code here (check if choice is a valid move!)\n",
    "\n",
    "    \n",
    "    "
   ]
  },
  {
   "cell_type": "markdown",
   "metadata": {},
   "source": [
    "## Second Step\n",
    "<p style='font-size:1.75rem;line-height:1.5'>\n",
    "    Let's write a function that will <b style=\"color:blue\">draw a player's mark on the board</b>.\n",
    "    </p>\n",
    "\n",
    "<p style='font-size:1.75rem;line-height:1.5'>\n",
    "    <code>player_one_turn</code> is a <b>BOOLEAN</b>:\n",
    "    <ul style='font-size:1.75rem;line-height:2'>\n",
    "        <li>If <code>player_one_turn</code> is <code>True</code>, then it is player one's turn. --> Draw <code>'X'</code></li>\n",
    "        <li>If <code>player_one_turn</code> is <code>False</code>, then it is player two's turn. --> Draw <code>'O'</code></li>\n",
    "    </ul>\n",
    "    </p>\n",
    "\n",
    "<p style='font-size:1.75rem;line-height:1.5'>\n",
    "    <b>Hint:</b> Index into <code>board</code> and change the list item to either <code>'X'</code> (player one) or <code>'O'</code> (player two), depending on the value of <code>player_one_turn</code>.\n",
    "    </p>"
   ]
  },
  {
   "cell_type": "code",
   "execution_count": null,
   "metadata": {},
   "outputs": [],
   "source": [
    "def mark(board, choice, player_one_turn):\n",
    "    # Student Code Here.\n",
    "    \n",
    "    \n",
    "    "
   ]
  },
  {
   "cell_type": "markdown",
   "metadata": {},
   "source": [
    "## Third Step\n",
    "<p style='font-size:1.75rem;line-height:1.5'>\n",
    "    <b style=\"color:blue\">Let's check if someone has won</b>. \n",
    "    <br> Index into the board and check if the 3 rows, 3 columns, and 2 diagonals <b>are the same</b>. \n",
    "    <br>There are a total of 8 conditions for winning.\n",
    "    </p>\n",
    "\n",
    "<p style='font-size:1.75rem;line-height:1.5'>\n",
    "    <b>HINT:</b> \n",
    "    <br> For example, if <code>row1</code> is <code>True</code>, this means that <b>all the marks</b> on the first row of <code>board</code> are either <b>ALL 'X'</b> or <b>ALL 'O'</b>.\n",
    "    <br>What are the index values of the first row? (refer to \"Board Set Up\" section above)\n",
    "    <br>How do we get the marks for the first row using these index values? \n",
    "    <br>How do we check if these values are all the same (either all <code>'X'</code> or all <code>'O'</code>)?\n",
    "    </p>"
   ]
  },
  {
   "cell_type": "code",
   "execution_count": null,
   "metadata": {},
   "outputs": [],
   "source": [
    "def is_winner(board):\n",
    "    # Check for the 3 rows.\n",
    "    row1 = # Condition here. (aka all the marks in the first row are either all 'X' or all 'O')\n",
    "    row2 = # Condition here.\n",
    "    row3 = # Condition here.\n",
    "    \n",
    "    # Check for the 3 columns.\n",
    "    col1 = # Condition here.\n",
    "    col2 = # Condition here.\n",
    "    col3 = # Condition here.\n",
    "    \n",
    "    # Check for the 2 diagonals\n",
    "    diag1 = # Condition here.\n",
    "    diag2 = # Condition here.\n",
    "    \n",
    "    return row1 or row2 or row3 or col1 or col2 or col3 or diag1 or diag2"
   ]
  },
  {
   "cell_type": "markdown",
   "metadata": {},
   "source": [
    "<p style='font-size:1.75rem;line-height:1.5'>\n",
    "Now let's run the game to play tic tac toe."
   ]
  },
  {
   "cell_type": "code",
   "execution_count": null,
   "metadata": {
    "scrolled": false
   },
   "outputs": [],
   "source": [
    "board = []\n",
    "for x in range (0, 9) :\n",
    "    board.append(str('-'))\n",
    "     \n",
    "def print_board(board) :\n",
    "    print( '\\n -----')\n",
    "    print( '|' + board[0] + '|' + board[1] + '|' + board[2] + '|')\n",
    "    print( ' -----')\n",
    "    print( '|' + board[3] + '|' + board[4] + '|' + board[5] + '|')\n",
    "    print( ' -----')\n",
    "    print( '|' + board[6] + '|' + board[7] + '|' + board[8] + '|')\n",
    "    print( ' -----\\n')\n",
    "\n",
    "player_one_turn = True\n",
    "winner = False\n",
    "\n",
    "\n",
    "while not winner :\n",
    "    print_board(board)\n",
    "\n",
    "    if player_one_turn :\n",
    "        print(\"Player 1 ('X'):\")\n",
    "    else :\n",
    "        print(\"Player 2 ('O'):\")\n",
    "\n",
    "    try:\n",
    "        choice = int(input(\">> \"))\n",
    "    except:\n",
    "        print(\"please enter a valid field\")\n",
    "        continue\n",
    "        \n",
    "    if not is_valid_move(choice, board):\n",
    "        print(\"illegal move, plase try again\")\n",
    "        continue\n",
    "    \n",
    "    # student function. Mark choices\n",
    "    mark(board, choice, player_one_turn)\n",
    "    \n",
    "    # student function. Checks for winner.\n",
    "    player_one_turn = not player_one_turn\n",
    "\n",
    "    winner = is_winner(board)\n",
    "\n",
    "    print_board(board)\n",
    "\n",
    "print(\"\\nPlayer \" + str(int(player_one_turn + 1)) + \" wins!\\n\")"
   ]
  }
 ],
 "metadata": {
  "kernelspec": {
   "display_name": "Python 2",
   "language": "python",
   "name": "python2"
  },
  "language_info": {
   "codemirror_mode": {
    "name": "ipython",
    "version": 2
   },
   "file_extension": ".py",
   "mimetype": "text/x-python",
   "name": "python",
   "nbconvert_exporter": "python",
   "pygments_lexer": "ipython2",
   "version": "2.7.16"
  }
 },
 "nbformat": 4,
 "nbformat_minor": 2
}
