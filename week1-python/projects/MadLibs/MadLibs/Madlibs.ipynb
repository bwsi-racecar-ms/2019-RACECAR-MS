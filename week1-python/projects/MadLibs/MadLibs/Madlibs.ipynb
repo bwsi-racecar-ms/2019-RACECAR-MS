{
 "cells": [
  {
   "cell_type": "markdown",
   "metadata": {},
   "source": [
    "# Madlibs\n",
    "\n",
    "<p style='font-size:1.75rem;line-height:1.5'>\n",
    "    Below is an example MadLib game. Try changing the variables!\n",
    "    </p>"
   ]
  },
  {
   "cell_type": "code",
   "execution_count": null,
   "metadata": {},
   "outputs": [],
   "source": [
    "name = \"Sabina\"\n",
    "movement_verb = \"walked\"\n",
    "location = \"mall\"\n",
    "verb = \"bought\"\n",
    "number = \"3\"\n",
    "items = \"apples\"\n",
    "\n",
    "print(name + \" \" + movement_verb + \" to the \" + location + \" and \" + verb + \n",
    "         \" \" + number + \" \" + items + \".\")"
   ]
  },
  {
   "cell_type": "markdown",
   "metadata": {},
   "source": [
    "<p style='font-size:1.75rem;line-height:1.5'>\n",
    "    Your Turn! Create your own Madlibs game below!\n",
    "    </p>"
   ]
  },
  {
   "cell_type": "code",
   "execution_count": null,
   "metadata": {},
   "outputs": [],
   "source": [
    "# Your code here\n",
    "\n"
   ]
  }
 ],
 "metadata": {
  "kernelspec": {
   "display_name": "Python 2",
   "language": "python",
   "name": "python2"
  },
  "language_info": {
   "codemirror_mode": {
    "name": "ipython",
    "version": 2
   },
   "file_extension": ".py",
   "mimetype": "text/x-python",
   "name": "python",
   "nbconvert_exporter": "python",
   "pygments_lexer": "ipython2",
   "version": "2.7.16"
  }
 },
 "nbformat": 4,
 "nbformat_minor": 2
}
